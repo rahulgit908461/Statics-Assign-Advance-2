{
 "cells": [
  {
   "cell_type": "code",
   "execution_count": 1,
   "id": "dffd32c3-598d-4ae1-89d0-d79f61ccbf26",
   "metadata": {},
   "outputs": [],
   "source": [
    "#Q1. What are the Probability Mass Function (PMF) and Probability Density Function (PDF)? Explain with\n",
    "#an example."
   ]
  },
  {
   "cell_type": "code",
   "execution_count": 2,
   "id": "58762ada-6980-4580-9d8c-bb95483fdfa7",
   "metadata": {},
   "outputs": [],
   "source": [
    "#The probability mass function (PMF) is used to describe discrete probability distributions. \n",
    "#In contrast, the probability density function (PDF) is applied to describe continuous probability \n",
    "#distributions."
   ]
  },
  {
   "cell_type": "code",
   "execution_count": 3,
   "id": "11dd91f5-ed44-4a18-a670-9159c4cfe470",
   "metadata": {},
   "outputs": [],
   "source": [
    "#Q2. What is Cumulative Density Function (CDF)? Explain with an example. Why CDF is used?"
   ]
  },
  {
   "cell_type": "code",
   "execution_count": 4,
   "id": "518dc43e-da35-455e-a447-361ba517d1b1",
   "metadata": {},
   "outputs": [],
   "source": [
    "#The Cumulative Distribution Function (CDF), of a real-valued random variable X, evaluated at x, is \n",
    "#the probability function that X will take a value less than or equal to x. It is used to describe the \n",
    "#probability distribution of random variables in a table."
   ]
  },
  {
   "cell_type": "code",
   "execution_count": 5,
   "id": "08a926ec-374e-4a44-ade1-67fb0ac7a04b",
   "metadata": {},
   "outputs": [],
   "source": [
    "#Q3.: What are some examples of situations where the normal distribution might be used as a model?\n",
    "#Explain how the parameters of the normal distribution relate to the shape of the distribution."
   ]
  },
  {
   "cell_type": "code",
   "execution_count": 6,
   "id": "bcb28f43-0832-480e-b5d7-3d033adb813d",
   "metadata": {},
   "outputs": [],
   "source": [
    "# Ans -The normal distribution is a continuous probability distribution that is symmetrical around its\n",
    "#mean with most values near the central peak.\n",
    "#Example:-\n",
    "#Height. The height of people is an example of normal distribution. ...\n",
    "#Rolling A Dice. A fair rolling of dice is also a good example of normal distribution. ...\n",
    "#Tossing A Coin. ...\n",
    "#IQ. ...\n",
    "#Technical Stock Market. ...\n",
    "#Blood Pressure. ...\n",
    "#Shoe Size. ...\n",
    "#Birth Weight.\n",
    "\n",
    "#Parameters of Normal Distribution\n",
    "#The two main parameters of a (normal) distribution are the mean and standard deviation. The parameters\n",
    "#determine the shape and probabilities of the distribution. The shape of the distribution changes as the\n",
    "#parameter values change."
   ]
  },
  {
   "cell_type": "code",
   "execution_count": 7,
   "id": "88bf7f93-4235-49c9-8c19-9a0f90517a91",
   "metadata": {},
   "outputs": [],
   "source": [
    "#Q4. Explain the importance of Normal Distribution. Give a few real-life examples of Normal\n",
    "#Distribution."
   ]
  },
  {
   "cell_type": "code",
   "execution_count": 8,
   "id": "0a7a5db5-35d4-4029-a66d-30e0fa5df087",
   "metadata": {},
   "outputs": [],
   "source": [
    "#Ans -The normal distribution is an important probability distribution in math and statistics because many \n",
    "#continuous data in nature and psychology display this bell-shaped curve when compiled and graphed.\n",
    "\n",
    "#Height. The height of people is an example of normal distribution. ...\n",
    "#Rolling A Dice. A fair rolling of dice is also a good example of normal distribution. ...\n",
    "#Tossing A Coin. ...\n",
    "#IQ. ...\n",
    "#Technical Stock Market. ...\n",
    "#Blood Pressure. ...\n",
    "#Shoe Size. ...\n",
    "#Birth Weigh"
   ]
  },
  {
   "cell_type": "code",
   "execution_count": 9,
   "id": "568e8790-a25a-4ce5-b39a-270281d2b472",
   "metadata": {},
   "outputs": [],
   "source": [
    "#Q5.: What is Bernaulli Distribution? Give an Example. What is the difference between Bernoulli\n",
    "#Distribution and Binomial Distribution?"
   ]
  },
  {
   "cell_type": "code",
   "execution_count": 10,
   "id": "6a7bc3be-86e9-4bfc-8502-e03efa7db0a7",
   "metadata": {},
   "outputs": [],
   "source": [
    "#Ans -Bernoulli Distribution is a type of discrete probability distribution where every experiment \n",
    "#conducted asks a question that can be answered only in yes or no. In other words, the random variable \n",
    "#can be 1 with a probability p or it can be 0 with a probability (1 - p). Such an experiment is called a \n",
    "#Bernoulli trial. A pass or fail exam can be modeled by a Bernoulli Distribution.\n",
    "\n",
    "#The Bernoulli distribution represents the success or failure of a single Bernoulli trial. \n",
    "#The Binomial Distribution represents the number of successes and failures in n independent Bernoulli\n",
    "#trials for some given value of n."
   ]
  },
  {
   "cell_type": "code",
   "execution_count": 11,
   "id": "3f832439-b8fa-44e2-b9c9-634bc49bad3f",
   "metadata": {},
   "outputs": [],
   "source": [
    "#Q6. Consider a dataset with a mean of 50 and a standard deviation of 10. If we assume that the dataset\n",
    "#is normally distributed, what is the probability that a randomly selected observation will be greater\n",
    "#than 60? Use the appropriate formula and show your calculations."
   ]
  },
  {
   "cell_type": "code",
   "execution_count": 12,
   "id": "f90025a8-a114-408e-8776-7bbfe4746556",
   "metadata": {},
   "outputs": [],
   "source": [
    "# Ans Mean =50 , std deviation=10 ,x=60\n",
    "\n",
    "#pdf=(1/sigma*under root og 2pie)e to the power -1/2(x-mean/std debiation)\n",
    "\n",
    "#pdf =0.02925"
   ]
  },
  {
   "cell_type": "code",
   "execution_count": 13,
   "id": "968d070e-d28e-419b-8448-5b0c415726f3",
   "metadata": {},
   "outputs": [],
   "source": [
    "#Q7. Explain uniform Distribution with an example."
   ]
  },
  {
   "cell_type": "code",
   "execution_count": 14,
   "id": "47b4811e-efe0-4b2b-8d3c-01b54bf0cc32",
   "metadata": {},
   "outputs": [],
   "source": [
    "# ans - In statistics, uniform distribution refers to a type of probability distribution in which all \n",
    "#outcomes are equally likely. A deck of cards has within it uniform distributions because the likelihood \n",
    "#of drawing a heart, a club, a diamond, or a spade is equally likely."
   ]
  },
  {
   "cell_type": "code",
   "execution_count": 15,
   "id": "4347fad2-bc38-45d4-8256-17057178ca82",
   "metadata": {},
   "outputs": [],
   "source": [
    "#Q8. What is the z score? State the importance of the z score."
   ]
  },
  {
   "cell_type": "code",
   "execution_count": 16,
   "id": "7deaa0e9-4acc-4016-993e-2e172de77667",
   "metadata": {},
   "outputs": [],
   "source": [
    "# Ans -Z-scores allow you to take data points drawn from populations with different means and standard \n",
    "#deviations and place them on a common scale. \n",
    "\n",
    "#This standard scale lets you compare observations for different types of variables that would otherwise\n",
    "#be difficult."
   ]
  },
  {
   "cell_type": "code",
   "execution_count": 17,
   "id": "8a32b848-274f-4a4e-89ec-d1c9a6a1aeef",
   "metadata": {},
   "outputs": [],
   "source": [
    "#Q.9.  What is Central Limit Theorem? State the significance of the Central Limit Theorem."
   ]
  },
  {
   "cell_type": "code",
   "execution_count": null,
   "id": "469b12de-6742-4763-91d7-3e3ebb8d4c42",
   "metadata": {},
   "outputs": [],
   "source": [
    "#Ans The central limit theorem says that the sampling distribution of the mean will always be normally\n",
    "#distributed, as long as the sample size is large enough.\n",
    "\n",
    "The central limit theorem is useful when analyzing large data sets because it allows one to assume that the sampling distribution of the mean will be normally-distributed in most cases."
   ]
  }
 ],
 "metadata": {
  "kernelspec": {
   "display_name": "Python 3 (ipykernel)",
   "language": "python",
   "name": "python3"
  },
  "language_info": {
   "codemirror_mode": {
    "name": "ipython",
    "version": 3
   },
   "file_extension": ".py",
   "mimetype": "text/x-python",
   "name": "python",
   "nbconvert_exporter": "python",
   "pygments_lexer": "ipython3",
   "version": "3.10.8"
  }
 },
 "nbformat": 4,
 "nbformat_minor": 5
}
